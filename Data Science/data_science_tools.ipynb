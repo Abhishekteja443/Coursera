{
 "cells": [
  {
   "cell_type": "markdown",
   "id": "f8e3181e",
   "metadata": {},
   "source": [
    "# Data Science Final Project"
   ]
  },
  {
   "cell_type": "markdown",
   "id": "d3a517f6",
   "metadata": {},
   "source": [
    "## Introduction\n",
    "This notebook is part of the final project for Data Science. It contains various exercises demonstrating basic Data Science concepts."
   ]
  },
  {
   "cell_type": "markdown",
   "id": "b1f51ada",
   "metadata": {},
   "source": [
    "## Data Science Languages\n",
    "1. Python\n",
    "2. R\n",
    "3. SQL\n",
    "4. Julia\n",
    "5. Scala"
   ]
  },
  {
   "cell_type": "markdown",
   "id": "20126cb7",
   "metadata": {},
   "source": [
    "## Data Science Libraries\n",
    "1. NumPy\n",
    "2. Pandas\n",
    "3. Matplotlib\n",
    "4. Scikit-learn\n",
    "5. TensorFlow\n",
    "6. PyTorch"
   ]
  },
  {
   "cell_type": "markdown",
   "id": "0dd5ea87",
   "metadata": {},
   "source": [
    "## Data Science Tools\n",
    "| Tool         | Purpose  |\n",
    "|--------------|----------|\n",
    "| Jupyter      | Notebooks for analysis |\n",
    "| Python       | Programming language |\n",
    "| R            | Statistical computing |\n",
    "| TensorFlow   | Machine Learning |\n",
    "| Power BI     | Data Visualization |"
   ]
  },
  {
   "cell_type": "markdown",
   "id": "002a9182",
   "metadata": {},
   "source": [
    "## Arithmetic Expression Examples\n",
    "This section demonstrates basic arithmetic operations."
   ]
  },
  {
   "cell_type": "code",
   "execution_count": 2,
   "id": "ba6b215d",
   "metadata": {},
   "outputs": [
    {
     "data": {
      "text/plain": [
       "53"
      ]
     },
     "execution_count": 2,
     "metadata": {},
     "output_type": "execute_result"
    }
   ],
   "source": [
    "\n",
    "# Multiply and Add\n",
    "x = 5\n",
    "y = 10\n",
    "z = x * y + 3\n",
    "z\n"
   ]
  },
  {
   "cell_type": "code",
   "execution_count": 1,
   "id": "d6026bdd",
   "metadata": {},
   "outputs": [
    {
     "data": {
      "text/plain": [
       "2.5"
      ]
     },
     "execution_count": 1,
     "metadata": {},
     "output_type": "execute_result"
    }
   ],
   "source": [
    "\n",
    "# Convert minutes to hours\n",
    "minutes = 150\n",
    "hours = minutes / 60\n",
    "hours\n"
   ]
  },
  {
   "cell_type": "markdown",
   "id": "5f8041f3",
   "metadata": {},
   "source": [
    "## Objectives\n",
    "1. Understand Data Science concepts and languages.\n",
    "2. Learn to work with libraries like NumPy and Pandas.\n",
    "3. Gain familiarity with Data Science tools and techniques."
   ]
  },
  {
   "cell_type": "markdown",
   "id": "e3382e0a",
   "metadata": {},
   "source": [
    "## Author\n",
    "Author: Abhishek Teja Goli"
   ]
  },
  {
   "cell_type": "markdown",
   "id": "285096f4",
   "metadata": {},
   "source": [
    "## GitHub Repository\n",
    "The notebook is shared on GitHub: [GitHub Repository](https://github.com/yourusername/your-repository)"
   ]
  },
  {
   "cell_type": "markdown",
   "id": "88f0b9ea",
   "metadata": {},
   "source": [
    "## Screenshot\n",
    "![Screenshot](https://via.placeholder.com/150)"
   ]
  }
 ],
 "metadata": {
  "kernelspec": {
   "display_name": "Python 3 (ipykernel)",
   "language": "python",
   "name": "python3"
  },
  "language_info": {
   "codemirror_mode": {
    "name": "ipython",
    "version": 3
   },
   "file_extension": ".py",
   "mimetype": "text/x-python",
   "name": "python",
   "nbconvert_exporter": "python",
   "pygments_lexer": "ipython3",
   "version": "3.12.4"
  }
 },
 "nbformat": 4,
 "nbformat_minor": 5
}
